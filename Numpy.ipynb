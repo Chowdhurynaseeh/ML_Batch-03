{
  "nbformat": 4,
  "nbformat_minor": 0,
  "metadata": {
    "colab": {
      "provenance": []
    },
    "kernelspec": {
      "name": "python3",
      "display_name": "Python 3"
    },
    "language_info": {
      "name": "python"
    }
  },
  "cells": [
    {
      "cell_type": "markdown",
      "source": [
        "## **Step 1: Getting Started with NumPy**"
      ],
      "metadata": {
        "id": "pXRhsIv2iAbJ"
      }
    },
    {
      "cell_type": "code",
      "execution_count": 1,
      "metadata": {
        "colab": {
          "base_uri": "https://localhost:8080/"
        },
        "id": "S7I9o4VkgddV",
        "outputId": "8b6cf117-4118-477a-934b-5fc493000be1"
      },
      "outputs": [
        {
          "output_type": "stream",
          "name": "stdout",
          "text": [
            "Requirement already satisfied: numpy in /usr/local/lib/python3.12/dist-packages (2.0.2)\n"
          ]
        }
      ],
      "source": [
        "!pip install numpy"
      ]
    },
    {
      "cell_type": "code",
      "source": [
        "import numpy as np"
      ],
      "metadata": {
        "id": "aeYKTUMGgkWK"
      },
      "execution_count": 2,
      "outputs": []
    },
    {
      "cell_type": "markdown",
      "source": [
        "## **Step 2: Basics — Arrays**"
      ],
      "metadata": {
        "id": "qllAHGY0iJ6R"
      }
    },
    {
      "cell_type": "code",
      "source": [
        "# From Python list\n",
        "arr = np.array([1, 2, 3, 4, 5])\n",
        "print(arr)\n",
        "\n",
        "# 2D array\n",
        "arr2d = np.array([[1, 2, 3], [4, 5, 6]])\n",
        "print(arr2d)"
      ],
      "metadata": {
        "colab": {
          "base_uri": "https://localhost:8080/"
        },
        "id": "iCpRCf7jgnyG",
        "outputId": "08a0ec44-de76-4697-ddf2-cde11f56cada"
      },
      "execution_count": 4,
      "outputs": [
        {
          "output_type": "stream",
          "name": "stdout",
          "text": [
            "[1 2 3 4 5]\n",
            "[[1 2 3]\n",
            " [4 5 6]]\n"
          ]
        }
      ]
    },
    {
      "cell_type": "code",
      "source": [
        "print(arr.ndim)   # Dimensions (1D, 2D, 3D...)\n",
        "print(arr.shape)  # Shape (rows, cols)\n",
        "print(arr.size)   # Total number of elements\n",
        "print(arr.dtype)  # Data type"
      ],
      "metadata": {
        "colab": {
          "base_uri": "https://localhost:8080/"
        },
        "id": "F5qxHT87gvwp",
        "outputId": "b4c47a91-16d0-492a-83b3-3923a0de82e9"
      },
      "execution_count": 5,
      "outputs": [
        {
          "output_type": "stream",
          "name": "stdout",
          "text": [
            "1\n",
            "(5,)\n",
            "5\n",
            "int64\n"
          ]
        }
      ]
    },
    {
      "cell_type": "code",
      "source": [
        "print(arr2d.ndim)   # Dimensions (1D, 2D, 3D...)\n",
        "print(arr2d.shape)  # Shape (rows, cols)\n",
        "print(arr2d.size)   # Total number of elements\n",
        "print(arr2d.dtype)  # Data type\n"
      ],
      "metadata": {
        "colab": {
          "base_uri": "https://localhost:8080/"
        },
        "id": "s8pMae9Gg23J",
        "outputId": "6b54896f-9327-4ed0-905f-aef006697316"
      },
      "execution_count": 6,
      "outputs": [
        {
          "output_type": "stream",
          "name": "stdout",
          "text": [
            "2\n",
            "(2, 3)\n",
            "6\n",
            "int64\n"
          ]
        }
      ]
    },
    {
      "cell_type": "code",
      "source": [
        "#Special Arrays\n",
        "print(np.zeros((3, 3)))        # 3x3 matrix of zeros\n",
        "print(np.ones((2, 4)))         # 2x4 matrix of ones\n",
        "print(np.full((2, 2), 7))      # 2x2 matrix filled with 7\n",
        "print(np.eye(3))               # 3x3 Identity matrix\n",
        "print(np.arange(0, 10, 2))     # [0, 2, 4, 6, 8]\n",
        "print(np.linspace(0, 2, 10))    # [0, 0.25, 0.5, 0.75, 1]"
      ],
      "metadata": {
        "colab": {
          "base_uri": "https://localhost:8080/"
        },
        "id": "jArqJzQEg-A5",
        "outputId": "6e9f1f02-f88d-41b3-a3e0-aa5d8373510d"
      },
      "execution_count": 16,
      "outputs": [
        {
          "output_type": "stream",
          "name": "stdout",
          "text": [
            "[[0. 0. 0.]\n",
            " [0. 0. 0.]\n",
            " [0. 0. 0.]]\n",
            "[[1. 1. 1. 1.]\n",
            " [1. 1. 1. 1.]]\n",
            "[[7 7]\n",
            " [7 7]]\n",
            "[[1. 0. 0.]\n",
            " [0. 1. 0.]\n",
            " [0. 0. 1.]]\n",
            "[0 2 4 6 8]\n",
            "[0.         0.22222222 0.44444444 0.66666667 0.88888889 1.11111111\n",
            " 1.33333333 1.55555556 1.77777778 2.        ]\n"
          ]
        }
      ]
    },
    {
      "cell_type": "markdown",
      "source": [
        "## **Step 3: Indexing & Slicing**"
      ],
      "metadata": {
        "id": "F6HF1oV-h5pS"
      }
    },
    {
      "cell_type": "code",
      "source": [
        "arr = np.array([10, 20, 30, 40, 50])\n",
        "print(arr[0])     # First element\n",
        "print(arr[-1])    # Last element\n",
        "print(arr[1:4])   # Slice [20, 30, 40]"
      ],
      "metadata": {
        "colab": {
          "base_uri": "https://localhost:8080/"
        },
        "id": "4B4A0CsThBiB",
        "outputId": "d98ea944-bf94-4930-f59f-b2c58f1397cc"
      },
      "execution_count": 17,
      "outputs": [
        {
          "output_type": "stream",
          "name": "stdout",
          "text": [
            "10\n",
            "50\n",
            "[20 30 40]\n"
          ]
        }
      ]
    },
    {
      "cell_type": "code",
      "source": [
        "arr2d = np.array([[1, 2, 3], [4, 5, 6]])\n",
        "\n",
        "print(arr2d[0, 1])     # Row 0, Col 1 → 2\n",
        "print(arr2d[:, 1])     # Entire Column 1 → [2, 5]\n",
        "print(arr2d[1, :])     # Entire Row 1 → [4, 5, 6]"
      ],
      "metadata": {
        "colab": {
          "base_uri": "https://localhost:8080/"
        },
        "id": "U8I5jJMQiY5h",
        "outputId": "682749e0-4ee3-42c6-9de1-73ee90ee9b32"
      },
      "execution_count": 18,
      "outputs": [
        {
          "output_type": "stream",
          "name": "stdout",
          "text": [
            "2\n",
            "[2 5]\n",
            "[4 5 6]\n"
          ]
        }
      ]
    },
    {
      "cell_type": "markdown",
      "source": [
        "## **Step 4: Math Operations & Vectorization**"
      ],
      "metadata": {
        "id": "Fi-qXj31jnxC"
      }
    },
    {
      "cell_type": "code",
      "source": [
        "a = np.array([1, 2, 3])\n",
        "b = np.array([4, 5, 6])\n",
        "\n",
        "print(a + b)   # [5 7 9]\n",
        "print(a - b)   # [-3 -3 -3]\n",
        "print(a * b)   # [4 10 18]\n",
        "print(a / b)   # [0.25 0.4  0.5 ]\n",
        "print(a ** 2)  # [1 4 9]"
      ],
      "metadata": {
        "colab": {
          "base_uri": "https://localhost:8080/"
        },
        "id": "THpsVBMGjwMh",
        "outputId": "6d6604a9-8c6c-4986-9785-3153e03a9309"
      },
      "execution_count": 19,
      "outputs": [
        {
          "output_type": "stream",
          "name": "stdout",
          "text": [
            "[5 7 9]\n",
            "[-3 -3 -3]\n",
            "[ 4 10 18]\n",
            "[0.25 0.4  0.5 ]\n",
            "[1 4 9]\n"
          ]
        }
      ]
    },
    {
      "cell_type": "code",
      "source": [
        "# Universal Functions (ufuncs) NumPy provides fast built-in math functions:\n",
        "arr = np.array([1, 2, 3, 4])\n",
        "\n",
        "print(np.sqrt(arr))    # Square root\n",
        "print(np.exp(arr))     # Exponential\n",
        "print(np.log(arr))     # Natural log\n",
        "print(np.sin(arr))     # Sine\n",
        "print(np.sum(arr))     # Sum\n",
        "print(np.mean(arr))    # Average\n",
        "print(np.max(arr))     # Max\n",
        "print(np.min(arr))     # Min"
      ],
      "metadata": {
        "colab": {
          "base_uri": "https://localhost:8080/"
        },
        "id": "TnoXaLVwj0XJ",
        "outputId": "089f5e97-0133-4e9e-a4c7-aa86be3cb6d8"
      },
      "execution_count": 20,
      "outputs": [
        {
          "output_type": "stream",
          "name": "stdout",
          "text": [
            "[1.         1.41421356 1.73205081 2.        ]\n",
            "[ 2.71828183  7.3890561  20.08553692 54.59815003]\n",
            "[0.         0.69314718 1.09861229 1.38629436]\n",
            "[ 0.84147098  0.90929743  0.14112001 -0.7568025 ]\n",
            "10\n",
            "2.5\n",
            "4\n",
            "1\n"
          ]
        }
      ]
    },
    {
      "cell_type": "markdown",
      "source": [
        "## **Step 5: Broadcasting (Superpower)**"
      ],
      "metadata": {
        "id": "khA3r_9akAO5"
      }
    },
    {
      "cell_type": "code",
      "source": [
        "# Broadcasting lets NumPy handle different-shaped arrays without writing loops.\n",
        "a = np.array([1, 2, 3])\n",
        "b = 2\n",
        "\n",
        "print(a + b)   # [3 4 5]  ← scalar broadcasted to each element"
      ],
      "metadata": {
        "colab": {
          "base_uri": "https://localhost:8080/"
        },
        "id": "cB-0quLIkE9G",
        "outputId": "a52b308e-47a5-4d51-fc64-b9daa71fab98"
      },
      "execution_count": 21,
      "outputs": [
        {
          "output_type": "stream",
          "name": "stdout",
          "text": [
            "[3 4 5]\n"
          ]
        }
      ]
    },
    {
      "cell_type": "code",
      "source": [
        "# 2D + 1D example:\n",
        "A = np.array([[1, 2, 3], [4, 5, 6]])\n",
        "b = np.array([10, 20, 30])\n",
        "\n",
        "print(A + b)\n",
        "# [[11 22 33]\n",
        "#  [14 25 36]]\n",
        "# Rule: NumPy stretches the smaller array to match the shape."
      ],
      "metadata": {
        "colab": {
          "base_uri": "https://localhost:8080/"
        },
        "id": "yq6OTsFJkTTC",
        "outputId": "5d2a283d-0e2e-4c0c-e5ea-c3d855de0b4f"
      },
      "execution_count": 24,
      "outputs": [
        {
          "output_type": "stream",
          "name": "stdout",
          "text": [
            "[[11 22 33]\n",
            " [14 25 36]]\n"
          ]
        }
      ]
    },
    {
      "cell_type": "markdown",
      "source": [
        "## **Step 6: Matrix Operations (Linear Algebra)**"
      ],
      "metadata": {
        "id": "TAOP7LNDkiSR"
      }
    },
    {
      "cell_type": "code",
      "source": [
        "A = np.array([[1, 2], [3, 4]])\n",
        "B = np.array([[5, 6], [7, 8]])\n",
        "\n",
        "print(np.dot(A, B))      # Matrix multiplication\n",
        "print(A @ B)             # Same as dot\n",
        "print(np.transpose(A))   # Transpose\n",
        "print(np.linalg.inv(A))  # Inverse\n",
        "print(np.linalg.det(A))  # Determinant\n",
        "print(np.linalg.eig(A))  # Eigenvalues & eigenvectors"
      ],
      "metadata": {
        "colab": {
          "base_uri": "https://localhost:8080/"
        },
        "id": "WjOQxCtLkdRV",
        "outputId": "87e17c74-96ff-4b78-9c2a-ba8e2090d92d"
      },
      "execution_count": 25,
      "outputs": [
        {
          "output_type": "stream",
          "name": "stdout",
          "text": [
            "[[19 22]\n",
            " [43 50]]\n",
            "[[19 22]\n",
            " [43 50]]\n",
            "[[1 3]\n",
            " [2 4]]\n",
            "[[-2.   1. ]\n",
            " [ 1.5 -0.5]]\n",
            "-2.0000000000000004\n",
            "EigResult(eigenvalues=array([-0.37228132,  5.37228132]), eigenvectors=array([[-0.82456484, -0.41597356],\n",
            "       [ 0.56576746, -0.90937671]]))\n"
          ]
        }
      ]
    },
    {
      "cell_type": "markdown",
      "source": [
        "## **Step 7: Advanced Indexing & Reshaping**"
      ],
      "metadata": {
        "id": "yD4Mgc8qlmj7"
      }
    },
    {
      "cell_type": "code",
      "source": [
        "# Boolean Indexing (filtering arrays)\n",
        "arr = np.array([10, 20, 30, 40, 50])\n",
        "\n",
        "mask = arr > 25\n",
        "print(mask)        # [False False  True  True  True]\n",
        "print(arr[mask])   # [30 40 50]\n",
        "\n",
        "# Useful for filtering datasets (e.g., selecting rows with certain conditions)."
      ],
      "metadata": {
        "colab": {
          "base_uri": "https://localhost:8080/"
        },
        "id": "yxrW4uo4luRR",
        "outputId": "ab981b3b-2a59-4334-89c2-e3120641ef9a"
      },
      "execution_count": 26,
      "outputs": [
        {
          "output_type": "stream",
          "name": "stdout",
          "text": [
            "[False False  True  True  True]\n",
            "[30 40 50]\n"
          ]
        }
      ]
    },
    {
      "cell_type": "code",
      "source": [
        "# Fancy Indexing\n",
        "arr = np.array([10, 20, 30, 40, 50])\n",
        "\n",
        "print(arr[[0, 2, 4]])   # Pick elements at indices 0,2,4 → [10 30 50]\n",
        "\n",
        "# 2D example\n",
        "arr2d = np.array([[1, 2], [3, 4], [5, 6]])\n",
        "\n",
        "print(arr2d[[0, 2]])     # Select rows 0 and 2\n",
        "print(arr2d[[0, 2], [1, 0]])  # Select (0,1) and (2,0) → [2, 5]"
      ],
      "metadata": {
        "colab": {
          "base_uri": "https://localhost:8080/"
        },
        "id": "okXsf3UXmf-x",
        "outputId": "28f8391d-67ce-4bbe-a564-d0d4b7ba15ec"
      },
      "execution_count": 29,
      "outputs": [
        {
          "output_type": "stream",
          "name": "stdout",
          "text": [
            "[10 30 50]\n",
            "[[1 2]\n",
            " [5 6]]\n",
            "[2 5]\n"
          ]
        }
      ]
    },
    {
      "cell_type": "code",
      "source": [
        "# Sorting\n",
        "arr = np.array([40, 10, 50, 20, 30])\n",
        "\n",
        "print(np.sort(arr))   # [10 20 30 40 50]\n",
        "print(arr.argsort())  # indices of sorted order → [1 3 4 0 2]\n",
        "\n",
        "#2D sort\n",
        "arr2d = np.array([[3, 1], [7, 2]])\n",
        "\n",
        "print(np.sort(arr2d, axis=0))  # Sort by column\n",
        "print(np.sort(arr2d, axis=1))  # Sort by row\n"
      ],
      "metadata": {
        "colab": {
          "base_uri": "https://localhost:8080/"
        },
        "id": "amlkn9nYmlBI",
        "outputId": "e3a6d81a-1235-4594-fbf2-d73b39691d66"
      },
      "execution_count": 31,
      "outputs": [
        {
          "output_type": "stream",
          "name": "stdout",
          "text": [
            "[10 20 30 40 50]\n",
            "[1 3 4 0 2]\n",
            "[[3 1]\n",
            " [7 2]]\n",
            "[[1 3]\n",
            " [2 7]]\n"
          ]
        }
      ]
    },
    {
      "cell_type": "code",
      "source": [
        "# Reshaping & Flattening\n",
        "arr = np.arange(12)  # [0 1 2 ... 11]\n",
        "\n",
        "reshaped = arr.reshape(3, 4)\n",
        "print(reshaped)\n",
        "# [[ 0  1  2  3]\n",
        "#  [ 4  5  6  7]\n",
        "#  [ 8  9 10 11]]\n",
        "\n",
        "print(arr.ravel())   # Flatten to 1D\n",
        "print(arr.reshape(-1, 6))  # NumPy infers shape automatically"
      ],
      "metadata": {
        "colab": {
          "base_uri": "https://localhost:8080/"
        },
        "id": "F3ALr2qBnmjU",
        "outputId": "13c58fe3-c2ed-4293-cbcf-aa1e290fb6a2"
      },
      "execution_count": 32,
      "outputs": [
        {
          "output_type": "stream",
          "name": "stdout",
          "text": [
            "[[ 0  1  2  3]\n",
            " [ 4  5  6  7]\n",
            " [ 8  9 10 11]]\n",
            "[ 0  1  2  3  4  5  6  7  8  9 10 11]\n",
            "[[ 0  1  2  3  4  5]\n",
            " [ 6  7  8  9 10 11]]\n"
          ]
        }
      ]
    },
    {
      "cell_type": "code",
      "source": [
        "# Stacking & Splitting\n",
        "a = np.array([1, 2, 3])\n",
        "b = np.array([4, 5, 6])\n",
        "\n",
        "print(np.stack([a, b]))       # Stack into 2D\n",
        "print(np.vstack([a, b]))      # Vertical stack\n",
        "print(np.hstack([a, b]))      # Horizontal stack\n",
        "\n",
        "c = np.arange(9).reshape(3, 3)\n",
        "print(np.split(c, 3))         # Split into 3 parts"
      ],
      "metadata": {
        "colab": {
          "base_uri": "https://localhost:8080/"
        },
        "id": "yqrvXoBVn1Ch",
        "outputId": "bf24fe4d-a9b2-46d9-b881-e88423d98f2f"
      },
      "execution_count": 33,
      "outputs": [
        {
          "output_type": "stream",
          "name": "stdout",
          "text": [
            "[[1 2 3]\n",
            " [4 5 6]]\n",
            "[[1 2 3]\n",
            " [4 5 6]]\n",
            "[1 2 3 4 5 6]\n",
            "[array([[0, 1, 2]]), array([[3, 4, 5]]), array([[6, 7, 8]])]\n"
          ]
        }
      ]
    },
    {
      "cell_type": "markdown",
      "source": [
        "## **Step 8: Random Numbers (very important in ML)**"
      ],
      "metadata": {
        "id": "FNZXHvUMoKxR"
      }
    },
    {
      "cell_type": "code",
      "source": [
        "np.random.seed(42)   # Fix seed for reproducibility\n",
        "\n",
        "print(np.random.rand(3))        # Uniform [0,1)\n",
        "print(np.random.randn(3))       # Normal distribution\n",
        "print(np.random.randint(1, 10)) # Random integer\n",
        "print(np.random.choice([1, 2, 3, 4], size=5))  # Random sampling\n",
        "print(np.random.permutation(10)) # Random permutation"
      ],
      "metadata": {
        "colab": {
          "base_uri": "https://localhost:8080/"
        },
        "id": "LUX1bY9JoTvR",
        "outputId": "b6065391-3318-44b6-fe42-a026becefc63"
      },
      "execution_count": 34,
      "outputs": [
        {
          "output_type": "stream",
          "name": "stdout",
          "text": [
            "[0.37454012 0.95071431 0.73199394]\n",
            "[-1.11188012  0.31890218  0.27904129]\n",
            "8\n",
            "[3 2 1 2 4]\n",
            "[9 2 8 6 0 4 3 7 1 5]\n"
          ]
        }
      ]
    },
    {
      "cell_type": "markdown",
      "source": [
        "## **Step 9: Performance & Optimization Tricks**"
      ],
      "metadata": {
        "id": "AWseC8M9pTkR"
      }
    },
    {
      "cell_type": "code",
      "source": [
        "# Vectorization vs Loops\n",
        "# Bad (Python loop):\n",
        "arr = np.arange(1_000_000)\n",
        "\n",
        "# Slow way\n",
        "squared_loop = [x**2 for x in arr]"
      ],
      "metadata": {
        "id": "lFA94vaVpXky"
      },
      "execution_count": 35,
      "outputs": []
    },
    {
      "cell_type": "code",
      "source": [
        "# Good (vectorized NumPy):\n",
        "squared_vec = arr ** 2\n",
        "# NumPy is written in C, so vectorized operations run ~100x faster.\n",
        "# Rule: Avoid Python loops → always think in array operations.#"
      ],
      "metadata": {
        "id": "drcoVsGn5T0s"
      },
      "execution_count": 37,
      "outputs": []
    },
    {
      "cell_type": "code",
      "source": [
        "# Broadcasting Hacks\n",
        "# Compute pairwise sum of two arrays without loops:\n",
        "a = np.array([1, 2, 3])\n",
        "b = np.array([10, 20, 30])\n",
        "\n",
        "# Broadcast to 3x3\n",
        "print(a[:, None])\n",
        "print(b)\n",
        "print(a[:, None] + b)\n",
        "# [[11 21 31]\n",
        "#  [12 22 32]\n",
        "#  [13 23 33]]\n",
        "# a[:, None] reshapes a into a column vector → enabling broadcasting."
      ],
      "metadata": {
        "colab": {
          "base_uri": "https://localhost:8080/"
        },
        "id": "zlgnrzAV5VvC",
        "outputId": "f6c7cd28-f688-49ca-83ad-41379ef0d258"
      },
      "execution_count": 39,
      "outputs": [
        {
          "output_type": "stream",
          "name": "stdout",
          "text": [
            "[[1]\n",
            " [2]\n",
            " [3]]\n",
            "[10 20 30]\n",
            "[[11 21 31]\n",
            " [12 22 32]\n",
            " [13 23 33]]\n"
          ]
        }
      ]
    },
    {
      "cell_type": "code",
      "source": [
        "# Memory Views (No Copy)\n",
        "# Slicing does not copy data, just gives a \"view\":\n",
        "arr = np.arange(10)\n",
        "sub = arr[2:6]   # View, not a copy\n",
        "sub[0] = 999\n",
        "\n",
        "print(arr)  # [0 1 999 3 4 5 6 7 8 9]\n",
        "\n",
        "# an independent copy:\n",
        "sub_copy = arr[2:6].copy()\n",
        "print(sub_copy)"
      ],
      "metadata": {
        "colab": {
          "base_uri": "https://localhost:8080/"
        },
        "id": "ePkRpM3p5-Ii",
        "outputId": "ffb9df2b-288b-419b-d810-3631a26f8010"
      },
      "execution_count": 41,
      "outputs": [
        {
          "output_type": "stream",
          "name": "stdout",
          "text": [
            "[  0   1 999   3   4   5   6   7   8   9]\n",
            "[999   3   4   5]\n"
          ]
        }
      ]
    },
    {
      "cell_type": "code",
      "source": [
        "# Strides Trick, NumPy internally uses strides (steps in memory).\n",
        "arr = np.array([[1, 2, 3], [4, 5, 6]])\n",
        "print(arr.strides)\n",
        "# (24, 8) on 64-bit (each row is 24 bytes, each element 8 bytes)\n",
        "# Advanced libs (like TensorFlow/PyTorch) rely heavily on stride tricks for speed."
      ],
      "metadata": {
        "colab": {
          "base_uri": "https://localhost:8080/"
        },
        "id": "zeiFciIu62uT",
        "outputId": "3015685c-2a9b-41ef-a938-c27913dc3d44"
      },
      "execution_count": 43,
      "outputs": [
        {
          "output_type": "stream",
          "name": "stdout",
          "text": [
            "(24, 8)\n"
          ]
        }
      ]
    },
    {
      "cell_type": "code",
      "source": [
        "# In-place Operations (save memory)\n",
        "arr = np.ones((1000, 1000))\n",
        "\n",
        "arr *= 2    # In-place multiplication\n",
        "# Faster + less memory used than arr = arr * 2."
      ],
      "metadata": {
        "id": "8u_z3z5x7HaD"
      },
      "execution_count": 44,
      "outputs": []
    },
    {
      "cell_type": "code",
      "source": [
        "# np.where & np.select (conditional logic)\n",
        "arr = np.array([10, 20, 30, 40])\n",
        "\n",
        "print(np.where(arr > 20, \"big\", \"small\"))\n",
        "# ['small' 'small' 'big' 'big']\n",
        "\n",
        "# Multiple conditions:\n",
        "\n",
        "grades = np.array([85, 60, 45])\n",
        "\n",
        "conditions = [grades >= 80, grades >= 50, grades < 50]\n",
        "choices = [\"A\", \"B\", \"F\"]\n",
        "\n",
        "print(np.select(conditions, choices, default=\"Unknown\")) # This ensures you won’t get a TypeError, default=\"Unknown\""
      ],
      "metadata": {
        "colab": {
          "base_uri": "https://localhost:8080/"
        },
        "id": "NE3T31Q87PUE",
        "outputId": "12ccf5d6-a306-45a3-e848-538e09cb2164"
      },
      "execution_count": 49,
      "outputs": [
        {
          "output_type": "stream",
          "name": "stdout",
          "text": [
            "['small' 'small' 'big' 'big']\n",
            "['A' 'B' 'F']\n"
          ]
        }
      ]
    },
    {
      "cell_type": "code",
      "source": [
        "# np.unique, np.bincount (categorical tricks)\n",
        "# Useful for label encoding in ML datasets.\n",
        "arr = np.array([1, 2, 2, 3, 3, 3])\n",
        "\n",
        "print(np.unique(arr))            # [1 2 3]\n",
        "print(np.unique(arr, return_counts=True))  # ([1 2 3], [1 2 3])\n",
        "print(np.bincount(arr))          # Frequency count"
      ],
      "metadata": {
        "colab": {
          "base_uri": "https://localhost:8080/"
        },
        "id": "qVvaM8-D7fdr",
        "outputId": "b56dce20-65de-417f-af4f-b358a7f14d4d"
      },
      "execution_count": 50,
      "outputs": [
        {
          "output_type": "stream",
          "name": "stdout",
          "text": [
            "[1 2 3]\n",
            "(array([1, 2, 3]), array([1, 2, 3]))\n",
            "[0 1 2 3]\n"
          ]
        }
      ]
    },
    {
      "cell_type": "code",
      "source": [
        "# Save & Load Arrays\n",
        "np.save(\"myarray.npy\", arr)        # Save\n",
        "loaded = np.load(\"myarray.npy\")    # Load\n",
        "# For large datasets:\n",
        "np.savez(\"many_arrays.npz\", a=a, b=b)"
      ],
      "metadata": {
        "id": "GmfU3j8j8WPz"
      },
      "execution_count": 51,
      "outputs": []
    }
  ]
}