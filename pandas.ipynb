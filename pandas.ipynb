{
  "nbformat": 4,
  "nbformat_minor": 0,
  "metadata": {
    "colab": {
      "provenance": [],
      "authorship_tag": "ABX9TyMgfFiF8ULAG0MkAIxU++ry",
      "include_colab_link": true
    },
    "kernelspec": {
      "name": "python3",
      "display_name": "Python 3"
    },
    "language_info": {
      "name": "python"
    }
  },
  "cells": [
    {
      "cell_type": "markdown",
      "metadata": {
        "id": "view-in-github",
        "colab_type": "text"
      },
      "source": [
        "<a href=\"https://colab.research.google.com/github/Chowdhurynaseeh/ML_Batch-03/blob/main/pandas.ipynb\" target=\"_parent\"><img src=\"https://colab.research.google.com/assets/colab-badge.svg\" alt=\"Open In Colab\"/></a>"
      ]
    },
    {
      "cell_type": "markdown",
      "source": [
        "## **Step 1: Getting Started with Pandas**"
      ],
      "metadata": {
        "id": "Er0-Ifi0Ksr3"
      }
    },
    {
      "cell_type": "code",
      "source": [
        "!pip install pandas"
      ],
      "metadata": {
        "colab": {
          "base_uri": "https://localhost:8080/"
        },
        "id": "_RFXEydYKuM_",
        "outputId": "d10211ab-713a-4849-8dc1-606354684855"
      },
      "execution_count": 1,
      "outputs": [
        {
          "output_type": "stream",
          "name": "stdout",
          "text": [
            "Requirement already satisfied: pandas in /usr/local/lib/python3.12/dist-packages (2.2.2)\n",
            "Requirement already satisfied: numpy>=1.26.0 in /usr/local/lib/python3.12/dist-packages (from pandas) (2.0.2)\n",
            "Requirement already satisfied: python-dateutil>=2.8.2 in /usr/local/lib/python3.12/dist-packages (from pandas) (2.9.0.post0)\n",
            "Requirement already satisfied: pytz>=2020.1 in /usr/local/lib/python3.12/dist-packages (from pandas) (2025.2)\n",
            "Requirement already satisfied: tzdata>=2022.7 in /usr/local/lib/python3.12/dist-packages (from pandas) (2025.2)\n",
            "Requirement already satisfied: six>=1.5 in /usr/local/lib/python3.12/dist-packages (from python-dateutil>=2.8.2->pandas) (1.17.0)\n"
          ]
        }
      ]
    },
    {
      "cell_type": "code",
      "source": [
        "import pandas as pd\n",
        "import numpy as np   # often used together"
      ],
      "metadata": {
        "id": "TCFTAUOVK1EA"
      },
      "execution_count": 2,
      "outputs": []
    },
    {
      "cell_type": "markdown",
      "source": [
        "## **Step 2: Series (1D Data)**"
      ],
      "metadata": {
        "id": "NdmxvbVDK5xX"
      }
    },
    {
      "cell_type": "code",
      "source": [
        "# A Series is like a labeled 1D array.\n",
        "# From list\n",
        "s = pd.Series([10, 20, 30, 40])\n",
        "print(s)\n",
        "\n",
        "# With custom index\n",
        "s2 = pd.Series([10, 20, 30], index=[\"a\", \"b\", \"c\"])\n",
        "print(s2)\n",
        "\n",
        "# Unlike NumPy, pandas gives labels (index)."
      ],
      "metadata": {
        "colab": {
          "base_uri": "https://localhost:8080/"
        },
        "id": "lVSa9oBHK7Lf",
        "outputId": "234fe983-6cc8-4625-a2e2-8387921b2ad4"
      },
      "execution_count": 3,
      "outputs": [
        {
          "output_type": "stream",
          "name": "stdout",
          "text": [
            "0    10\n",
            "1    20\n",
            "2    30\n",
            "3    40\n",
            "dtype: int64\n",
            "a    10\n",
            "b    20\n",
            "c    30\n",
            "dtype: int64\n"
          ]
        }
      ]
    },
    {
      "cell_type": "markdown",
      "source": [
        "## **Step 3: DataFrame (2D Table)**"
      ],
      "metadata": {
        "id": "-JVBV7qmLKPQ"
      }
    },
    {
      "cell_type": "code",
      "source": [
        "# A DataFrame is like an Excel sheet or SQL table.\n",
        "# From dictionary\n",
        "data = {\n",
        "    \"Name\": [\"Alice\", \"Bob\", \"Charlie\"],\n",
        "    \"Age\": [25, 30, 35],\n",
        "    \"City\": [\"Dhaka\", \"Chittagong\", \"Sylhet\"]\n",
        "}\n",
        "\n",
        "df = pd.DataFrame(data)\n",
        "print(df)"
      ],
      "metadata": {
        "colab": {
          "base_uri": "https://localhost:8080/"
        },
        "id": "AUZ12OXrLLpH",
        "outputId": "35bdb2e5-5e59-4625-b681-a60ada8f8ff0"
      },
      "execution_count": 4,
      "outputs": [
        {
          "output_type": "stream",
          "name": "stdout",
          "text": [
            "      Name  Age        City\n",
            "0    Alice   25       Dhaka\n",
            "1      Bob   30  Chittagong\n",
            "2  Charlie   35      Sylhet\n"
          ]
        }
      ]
    },
    {
      "cell_type": "markdown",
      "source": [
        "## **Step 4: Inspecting Data**"
      ],
      "metadata": {
        "id": "KoCsgji7Leqn"
      }
    },
    {
      "cell_type": "code",
      "source": [
        "# print(df.head())      # First 5 rows\n",
        "# print(df.tail())      # Last 5 rows\n",
        "# print(df.shape)       # (rows, cols)\n",
        "# print(df.info())      # Column types & memory\n",
        "print(df.describe())  # Stats for numeric columns"
      ],
      "metadata": {
        "colab": {
          "base_uri": "https://localhost:8080/"
        },
        "id": "UHfbx2CRLf6X",
        "outputId": "9543108e-d25d-4c40-d8f4-c6566d1ca040"
      },
      "execution_count": 5,
      "outputs": [
        {
          "output_type": "stream",
          "name": "stdout",
          "text": [
            "        Age\n",
            "count   3.0\n",
            "mean   30.0\n",
            "std     5.0\n",
            "min    25.0\n",
            "25%    27.5\n",
            "50%    30.0\n",
            "75%    32.5\n",
            "max    35.0\n"
          ]
        }
      ]
    },
    {
      "cell_type": "markdown",
      "source": [
        "## **Step 5: Selecting Data**"
      ],
      "metadata": {
        "id": "S58_b5sWL9iM"
      }
    },
    {
      "cell_type": "code",
      "source": [
        "# print(df[\"Name\"])        # Select single column (Series)\n",
        "# print(df[[\"Name\", \"City\"]])  # Select multiple columns\n",
        "\n",
        "# print(df.loc[0])         # Row by label\n",
        "# print(df.iloc[1])        # Row by position (2nd row)\n",
        "print(df.loc[0, \"Name\"]) # Single value\n"
      ],
      "metadata": {
        "colab": {
          "base_uri": "https://localhost:8080/"
        },
        "id": "pUx3KiHdL-ug",
        "outputId": "4b4b9f5f-77df-4a75-c731-cbe8bba06aee"
      },
      "execution_count": 6,
      "outputs": [
        {
          "output_type": "stream",
          "name": "stdout",
          "text": [
            "Alice\n"
          ]
        }
      ]
    },
    {
      "cell_type": "markdown",
      "source": [
        "## **Step 6: Filtering Data**"
      ],
      "metadata": {
        "id": "9xexFH7fMhyY"
      }
    },
    {
      "cell_type": "code",
      "source": [
        "# print(df[df[\"Age\"] > 28])     # Filter rows where Age > 28\n",
        "print(df[df[\"City\"] == \"Dhaka\"])"
      ],
      "metadata": {
        "colab": {
          "base_uri": "https://localhost:8080/"
        },
        "id": "xF4tCuyBMjGJ",
        "outputId": "01fe7926-82dc-442a-cdc0-141ac16e9633"
      },
      "execution_count": 7,
      "outputs": [
        {
          "output_type": "stream",
          "name": "stdout",
          "text": [
            "    Name  Age   City\n",
            "0  Alice   25  Dhaka\n"
          ]
        }
      ]
    },
    {
      "cell_type": "markdown",
      "source": [
        "## **Step 7: Adding / Modifying Columns**"
      ],
      "metadata": {
        "id": "aDWawsz2Nyzw"
      }
    },
    {
      "cell_type": "code",
      "source": [
        "df[\"Age+5\"] = df[\"Age\"] + 5   # Add new column\n",
        "df[\"Senior\"] = df[\"Age\"] > 30 # Boolean column\n",
        "print(df)"
      ],
      "metadata": {
        "colab": {
          "base_uri": "https://localhost:8080/"
        },
        "id": "kU8MxJSRN1Bh",
        "outputId": "3e147459-8caa-46c1-d79b-1545d5d15e41"
      },
      "execution_count": 8,
      "outputs": [
        {
          "output_type": "stream",
          "name": "stdout",
          "text": [
            "      Name  Age        City  Age+5  Senior\n",
            "0    Alice   25       Dhaka     30   False\n",
            "1      Bob   30  Chittagong     35   False\n",
            "2  Charlie   35      Sylhet     40    True\n"
          ]
        }
      ]
    },
    {
      "cell_type": "markdown",
      "source": [
        "## **Step 8: Handling Missing Data**"
      ],
      "metadata": {
        "id": "wO3o7tD4OC14"
      }
    },
    {
      "cell_type": "code",
      "source": [
        "df2 = pd.DataFrame({\n",
        "    \"Name\": [\"Ali\", \"Sara\", \"John\"],\n",
        "    \"Age\": [25, None, 40],\n",
        "    \"City\": [\"Dhaka\", \"Khulna\", None]\n",
        "})\n",
        "\n",
        "# print(df2.isnull())    # Check missing\n",
        "# print(df2.dropna())    # Drop rows with NaN\n",
        "print(df2.fillna(\"Unknown\"))  # Replace NaN"
      ],
      "metadata": {
        "colab": {
          "base_uri": "https://localhost:8080/"
        },
        "id": "fTf6BXUpOFiZ",
        "outputId": "32eb18ab-ce56-41e7-b2c2-6c8640f626c6"
      },
      "execution_count": 9,
      "outputs": [
        {
          "output_type": "stream",
          "name": "stdout",
          "text": [
            "   Name      Age     City\n",
            "0   Ali     25.0    Dhaka\n",
            "1  Sara  Unknown   Khulna\n",
            "2  John     40.0  Unknown\n"
          ]
        }
      ]
    },
    {
      "cell_type": "markdown",
      "source": [
        "## **Step 9: Grouping & Aggregation**"
      ],
      "metadata": {
        "id": "w8yJoDdMPeRB"
      }
    },
    {
      "cell_type": "code",
      "source": [
        "print(df.groupby(\"City\")[\"Age\"].mean())  # Avg age per city"
      ],
      "metadata": {
        "colab": {
          "base_uri": "https://localhost:8080/"
        },
        "id": "kkRiWUhfPgw4",
        "outputId": "e85040a4-d926-411f-9388-c7165b13f1dc"
      },
      "execution_count": 10,
      "outputs": [
        {
          "output_type": "stream",
          "name": "stdout",
          "text": [
            "City\n",
            "Chittagong    30.0\n",
            "Dhaka         25.0\n",
            "Sylhet        35.0\n",
            "Name: Age, dtype: float64\n"
          ]
        }
      ]
    },
    {
      "cell_type": "markdown",
      "source": [
        "## **Step 10: Importing & Exporting Data**"
      ],
      "metadata": {
        "id": "6DlqlQzwRN1Q"
      }
    },
    {
      "cell_type": "code",
      "source": [
        "# Save\n",
        "df.to_csv(\"people.csv\", index=False)\n",
        "\n",
        "# Load\n",
        "df_loaded = pd.read_csv(\"people.csv\")\n",
        "print(df_loaded)"
      ],
      "metadata": {
        "id": "9_CEzrCBRQRA",
        "outputId": "9fa8ba9d-74ff-4d0f-fbb5-f69fd89f4ffe",
        "colab": {
          "base_uri": "https://localhost:8080/"
        }
      },
      "execution_count": 11,
      "outputs": [
        {
          "output_type": "stream",
          "name": "stdout",
          "text": [
            "      Name  Age        City  Age+5  Senior\n",
            "0    Alice   25       Dhaka     30   False\n",
            "1      Bob   30  Chittagong     35   False\n",
            "2  Charlie   35      Sylhet     40    True\n"
          ]
        }
      ]
    },
    {
      "cell_type": "markdown",
      "source": [
        "## **Step 11: Sorting**"
      ],
      "metadata": {
        "id": "JHocAnYAFk_l"
      }
    },
    {
      "cell_type": "code",
      "source": [
        "print(df.sort_values(\"Age\"))           # Sort by Age ascending\n",
        "print(df.sort_values(\"Age\", ascending=False))  # Sort by Age descending\n",
        "print(df.sort_values([\"City\", \"Age\"])) # Sort by multiple columns"
      ],
      "metadata": {
        "colab": {
          "base_uri": "https://localhost:8080/"
        },
        "id": "HmvnblUkFn-V",
        "outputId": "6176a2bb-b1ca-4010-ac2f-d8a5905dd56f"
      },
      "execution_count": 12,
      "outputs": [
        {
          "output_type": "stream",
          "name": "stdout",
          "text": [
            "      Name  Age        City  Age+5  Senior\n",
            "0    Alice   25       Dhaka     30   False\n",
            "1      Bob   30  Chittagong     35   False\n",
            "2  Charlie   35      Sylhet     40    True\n",
            "      Name  Age        City  Age+5  Senior\n",
            "2  Charlie   35      Sylhet     40    True\n",
            "1      Bob   30  Chittagong     35   False\n",
            "0    Alice   25       Dhaka     30   False\n",
            "      Name  Age        City  Age+5  Senior\n",
            "1      Bob   30  Chittagong     35   False\n",
            "0    Alice   25       Dhaka     30   False\n",
            "2  Charlie   35      Sylhet     40    True\n"
          ]
        }
      ]
    },
    {
      "cell_type": "markdown",
      "source": [
        "## **Step 12: Merging & Joining**"
      ],
      "metadata": {
        "id": "1ck9cZjvFtwM"
      }
    },
    {
      "cell_type": "code",
      "source": [
        "# Example datasets\n",
        "data1 = {\"ID\": [1, 2, 3], \"Name\": [\"Alice\", \"Bob\", \"Charlie\"]}\n",
        "data2 = {\"ID\": [1, 2, 4], \"Score\": [85, 90, 95]}\n",
        "\n",
        "df1 = pd.DataFrame(data1)\n",
        "df2 = pd.DataFrame(data2)\n",
        "print(df1)\n",
        "print(df2)\n",
        "\n",
        "# Merge on ID\n",
        "merged = pd.merge(df1, df2, on=\"ID\", how=\"inner\")   # Inner Join\n",
        "print(\"Inner Join:\\n\", merged)\n",
        "\n",
        "merged_outer = pd.merge(df1, df2, on=\"ID\", how=\"outer\") # Outer Join\n",
        "print(\"Outer Join:\\n\", merged_outer)"
      ],
      "metadata": {
        "colab": {
          "base_uri": "https://localhost:8080/"
        },
        "id": "YQrT52jtFwv0",
        "outputId": "94a7e342-32fe-4876-d83c-5a9096a14bef"
      },
      "execution_count": 13,
      "outputs": [
        {
          "output_type": "stream",
          "name": "stdout",
          "text": [
            "   ID     Name\n",
            "0   1    Alice\n",
            "1   2      Bob\n",
            "2   3  Charlie\n",
            "   ID  Score\n",
            "0   1     85\n",
            "1   2     90\n",
            "2   4     95\n",
            "Inner Join:\n",
            "    ID   Name  Score\n",
            "0   1  Alice     85\n",
            "1   2    Bob     90\n",
            "Outer Join:\n",
            "    ID     Name  Score\n",
            "0   1    Alice   85.0\n",
            "1   2      Bob   90.0\n",
            "2   3  Charlie    NaN\n",
            "3   4      NaN   95.0\n"
          ]
        }
      ]
    },
    {
      "cell_type": "markdown",
      "source": [
        "## **Step 13: Concatenation**"
      ],
      "metadata": {
        "id": "Hnv4bscLF_vE"
      }
    },
    {
      "cell_type": "code",
      "source": [
        "df_top = df.head(2)\n",
        "df_bottom = df.tail(1)\n",
        "\n",
        "df_concat = pd.concat([df_top, df_bottom])\n",
        "print(df_concat)"
      ],
      "metadata": {
        "colab": {
          "base_uri": "https://localhost:8080/"
        },
        "id": "NrH7l4maGCYc",
        "outputId": "665ccb8b-9576-4531-9fa9-0845365a156f"
      },
      "execution_count": 14,
      "outputs": [
        {
          "output_type": "stream",
          "name": "stdout",
          "text": [
            "      Name  Age        City  Age+5  Senior\n",
            "0    Alice   25       Dhaka     30   False\n",
            "1      Bob   30  Chittagong     35   False\n",
            "2  Charlie   35      Sylhet     40    True\n"
          ]
        }
      ]
    },
    {
      "cell_type": "markdown",
      "source": [
        "## **Step 14: Pivot Tables (Excel-style)**"
      ],
      "metadata": {
        "id": "7SauYltBGKFs"
      }
    },
    {
      "cell_type": "code",
      "source": [
        "sales = pd.DataFrame({\n",
        "    \"City\": [\"Dhaka\", \"Dhaka\", \"Sylhet\", \"Sylhet\"],\n",
        "    \"Product\": [\"A\", \"B\", \"A\", \"B\"],\n",
        "    \"Sales\": [100, 150, 200, 120]\n",
        "})\n",
        "# print(sales)\n",
        "\n",
        "pivot = pd.pivot_table(sales, values=\"Sales\", index=\"City\", columns=\"Product\", aggfunc=\"sum\")\n",
        "print(pivot)"
      ],
      "metadata": {
        "colab": {
          "base_uri": "https://localhost:8080/"
        },
        "id": "N-mTUDqUGLNU",
        "outputId": "493a86e5-5b67-4655-983d-778b0407395f"
      },
      "execution_count": 16,
      "outputs": [
        {
          "output_type": "stream",
          "name": "stdout",
          "text": [
            "Product    A    B\n",
            "City             \n",
            "Dhaka    100  150\n",
            "Sylhet   200  120\n"
          ]
        }
      ]
    },
    {
      "cell_type": "markdown",
      "source": [
        "## **Step 15: Apply & Lambda Functions**"
      ],
      "metadata": {
        "id": "VBVvl819GcrO"
      }
    },
    {
      "cell_type": "code",
      "source": [
        "df[\"Age_Double\"] = df[\"Age\"].apply(lambda x: x * 2)\n",
        "print(df)"
      ],
      "metadata": {
        "colab": {
          "base_uri": "https://localhost:8080/"
        },
        "id": "X-nofGnKGdh0",
        "outputId": "8ea0bc48-2b49-4c1d-e447-9b96cf5984cc"
      },
      "execution_count": 17,
      "outputs": [
        {
          "output_type": "stream",
          "name": "stdout",
          "text": [
            "      Name  Age        City  Age+5  Senior  Age_Double\n",
            "0    Alice   25       Dhaka     30   False          50\n",
            "1      Bob   30  Chittagong     35   False          60\n",
            "2  Charlie   35      Sylhet     40    True          70\n"
          ]
        }
      ]
    },
    {
      "cell_type": "markdown",
      "source": [
        "## **Step 16: Real Dataset Example (Titanic)**"
      ],
      "metadata": {
        "id": "xOoS78YSGnvc"
      }
    },
    {
      "cell_type": "code",
      "source": [
        "# Load Titanic dataset (built into seaborn or Kaggle dataset)\n",
        "import seaborn as sns\n",
        "titanic = sns.load_dataset(\"titanic\")\n",
        "\n",
        "# print(titanic.head())\n",
        "\n",
        "# Survival rate by sex\n",
        "print(titanic.groupby(\"sex\")[\"survived\"].mean())\n",
        "\n",
        "# Survival rate by class\n",
        "# print(titanic.groupby(\"class\")[\"survived\"].mean())\n",
        "\n",
        "# Survival rate by sex & class\n",
        "# print(titanic.pivot_table(values=\"survived\", index=\"sex\", columns=\"class\", aggfunc=\"mean\"))"
      ],
      "metadata": {
        "colab": {
          "base_uri": "https://localhost:8080/"
        },
        "id": "rJ-C5tdKGpU0",
        "outputId": "ad16f306-69a3-4fea-d955-9cde5e1cbc34"
      },
      "execution_count": 30,
      "outputs": [
        {
          "output_type": "stream",
          "name": "stdout",
          "text": [
            "sex\n",
            "female    0.742038\n",
            "male      0.188908\n",
            "Name: survived, dtype: float64\n"
          ]
        }
      ]
    }
  ]
}