{
  "nbformat": 4,
  "nbformat_minor": 0,
  "metadata": {
    "colab": {
      "provenance": [],
      "authorship_tag": "ABX9TyPm8PKlNP2CuMALwoZdpeqo",
      "include_colab_link": true
    },
    "kernelspec": {
      "name": "python3",
      "display_name": "Python 3"
    },
    "language_info": {
      "name": "python"
    }
  },
  "cells": [
    {
      "cell_type": "markdown",
      "metadata": {
        "id": "view-in-github",
        "colab_type": "text"
      },
      "source": [
        "<a href=\"https://colab.research.google.com/github/Chowdhurynaseeh/ML_Batch-03/blob/main/pandas.ipynb\" target=\"_parent\"><img src=\"https://colab.research.google.com/assets/colab-badge.svg\" alt=\"Open In Colab\"/></a>"
      ]
    },
    {
      "cell_type": "markdown",
      "source": [
        "## **Step 1: Getting Started with Pandas**"
      ],
      "metadata": {
        "id": "Er0-Ifi0Ksr3"
      }
    },
    {
      "cell_type": "code",
      "source": [
        "!pip install pandas"
      ],
      "metadata": {
        "colab": {
          "base_uri": "https://localhost:8080/"
        },
        "id": "_RFXEydYKuM_",
        "outputId": "49b3d8fa-eb3a-40be-d6fb-95daf239feb1"
      },
      "execution_count": null,
      "outputs": [
        {
          "output_type": "stream",
          "name": "stdout",
          "text": [
            "Requirement already satisfied: pandas in /usr/local/lib/python3.12/dist-packages (2.2.2)\n",
            "Requirement already satisfied: numpy>=1.26.0 in /usr/local/lib/python3.12/dist-packages (from pandas) (2.0.2)\n",
            "Requirement already satisfied: python-dateutil>=2.8.2 in /usr/local/lib/python3.12/dist-packages (from pandas) (2.9.0.post0)\n",
            "Requirement already satisfied: pytz>=2020.1 in /usr/local/lib/python3.12/dist-packages (from pandas) (2025.2)\n",
            "Requirement already satisfied: tzdata>=2022.7 in /usr/local/lib/python3.12/dist-packages (from pandas) (2025.2)\n",
            "Requirement already satisfied: six>=1.5 in /usr/local/lib/python3.12/dist-packages (from python-dateutil>=2.8.2->pandas) (1.17.0)\n"
          ]
        }
      ]
    },
    {
      "cell_type": "code",
      "source": [
        "import pandas as pd\n",
        "import numpy as np   # often used together"
      ],
      "metadata": {
        "id": "TCFTAUOVK1EA"
      },
      "execution_count": null,
      "outputs": []
    },
    {
      "cell_type": "markdown",
      "source": [
        "## **Step 2: Series (1D Data)**"
      ],
      "metadata": {
        "id": "NdmxvbVDK5xX"
      }
    },
    {
      "cell_type": "code",
      "source": [
        "# A Series is like a labeled 1D array.\n",
        "# From list\n",
        "s = pd.Series([10, 20, 30, 40])\n",
        "print(s)\n",
        "\n",
        "# With custom index\n",
        "s2 = pd.Series([10, 20, 30], index=[\"a\", \"b\", \"c\"])\n",
        "print(s2)\n",
        "\n",
        "# Unlike NumPy, pandas gives labels (index)."
      ],
      "metadata": {
        "colab": {
          "base_uri": "https://localhost:8080/"
        },
        "id": "lVSa9oBHK7Lf",
        "outputId": "3a892bbf-23ad-45de-968d-55ea65e9d10d"
      },
      "execution_count": null,
      "outputs": [
        {
          "output_type": "stream",
          "name": "stdout",
          "text": [
            "0    10\n",
            "1    20\n",
            "2    30\n",
            "3    40\n",
            "dtype: int64\n",
            "a    10\n",
            "b    20\n",
            "c    30\n",
            "dtype: int64\n"
          ]
        }
      ]
    },
    {
      "cell_type": "markdown",
      "source": [
        "## **Step 3: DataFrame (2D Table)**"
      ],
      "metadata": {
        "id": "-JVBV7qmLKPQ"
      }
    },
    {
      "cell_type": "code",
      "source": [
        "# A DataFrame is like an Excel sheet or SQL table.\n",
        "# From dictionary\n",
        "data = {\n",
        "    \"Name\": [\"Alice\", \"Bob\", \"Charlie\"],\n",
        "    \"Age\": [25, 30, 35],\n",
        "    \"City\": [\"Dhaka\", \"Chittagong\", \"Sylhet\"]\n",
        "}\n",
        "\n",
        "df = pd.DataFrame(data)\n",
        "print(df)"
      ],
      "metadata": {
        "colab": {
          "base_uri": "https://localhost:8080/"
        },
        "id": "AUZ12OXrLLpH",
        "outputId": "a40fefd5-9dd7-4d0d-f7ba-577acb5dce85"
      },
      "execution_count": null,
      "outputs": [
        {
          "output_type": "stream",
          "name": "stdout",
          "text": [
            "      Name  Age        City\n",
            "0    Alice   25       Dhaka\n",
            "1      Bob   30  Chittagong\n",
            "2  Charlie   35      Sylhet\n"
          ]
        }
      ]
    },
    {
      "cell_type": "markdown",
      "source": [
        "## **Step 4: Inspecting Data**"
      ],
      "metadata": {
        "id": "KoCsgji7Leqn"
      }
    },
    {
      "cell_type": "code",
      "source": [
        "# print(df.head())      # First 5 rows\n",
        "# print(df.tail())      # Last 5 rows\n",
        "# print(df.shape)       # (rows, cols)\n",
        "# print(df.info())      # Column types & memory\n",
        "print(df.describe())  # Stats for numeric columns"
      ],
      "metadata": {
        "colab": {
          "base_uri": "https://localhost:8080/"
        },
        "id": "UHfbx2CRLf6X",
        "outputId": "db8f75b8-2847-4db0-c8b3-532257ac7601"
      },
      "execution_count": null,
      "outputs": [
        {
          "output_type": "stream",
          "name": "stdout",
          "text": [
            "        Age\n",
            "count   3.0\n",
            "mean   30.0\n",
            "std     5.0\n",
            "min    25.0\n",
            "25%    27.5\n",
            "50%    30.0\n",
            "75%    32.5\n",
            "max    35.0\n"
          ]
        }
      ]
    },
    {
      "cell_type": "markdown",
      "source": [
        "## **Step 5: Selecting Data**"
      ],
      "metadata": {
        "id": "S58_b5sWL9iM"
      }
    },
    {
      "cell_type": "code",
      "source": [
        "# print(df[\"Name\"])        # Select single column (Series)\n",
        "# print(df[[\"Name\", \"City\"]])  # Select multiple columns\n",
        "\n",
        "# print(df.loc[0])         # Row by label\n",
        "# print(df.iloc[1])        # Row by position (2nd row)\n",
        "print(df.loc[0, \"Name\"]) # Single value\n"
      ],
      "metadata": {
        "colab": {
          "base_uri": "https://localhost:8080/"
        },
        "id": "pUx3KiHdL-ug",
        "outputId": "d9b25ce2-cc3d-48f3-ddb0-abb7593cb701"
      },
      "execution_count": null,
      "outputs": [
        {
          "output_type": "stream",
          "name": "stdout",
          "text": [
            "Alice\n"
          ]
        }
      ]
    },
    {
      "cell_type": "markdown",
      "source": [
        "## **Step 6: Filtering Data**"
      ],
      "metadata": {
        "id": "9xexFH7fMhyY"
      }
    },
    {
      "cell_type": "code",
      "source": [
        "# print(df[df[\"Age\"] > 28])     # Filter rows where Age > 28\n",
        "print(df[df[\"City\"] == \"Dhaka\"])"
      ],
      "metadata": {
        "colab": {
          "base_uri": "https://localhost:8080/"
        },
        "id": "xF4tCuyBMjGJ",
        "outputId": "0e672d26-518b-4482-aadb-55eef3644209"
      },
      "execution_count": null,
      "outputs": [
        {
          "output_type": "stream",
          "name": "stdout",
          "text": [
            "    Name  Age   City\n",
            "0  Alice   25  Dhaka\n"
          ]
        }
      ]
    },
    {
      "cell_type": "markdown",
      "source": [
        "## **Step 7: Adding / Modifying Columns**"
      ],
      "metadata": {
        "id": "aDWawsz2Nyzw"
      }
    },
    {
      "cell_type": "code",
      "source": [
        "df[\"Age+5\"] = df[\"Age\"] + 5   # Add new column\n",
        "df[\"Senior\"] = df[\"Age\"] > 30 # Boolean column\n",
        "print(df)"
      ],
      "metadata": {
        "colab": {
          "base_uri": "https://localhost:8080/"
        },
        "id": "kU8MxJSRN1Bh",
        "outputId": "3be096fc-3746-4950-9704-cc47f79a7685"
      },
      "execution_count": null,
      "outputs": [
        {
          "output_type": "stream",
          "name": "stdout",
          "text": [
            "      Name  Age        City  Age+5  Senior\n",
            "0    Alice   25       Dhaka     30   False\n",
            "1      Bob   30  Chittagong     35   False\n",
            "2  Charlie   35      Sylhet     40    True\n"
          ]
        }
      ]
    },
    {
      "cell_type": "markdown",
      "source": [
        "## **Step 8: Handling Missing Data**"
      ],
      "metadata": {
        "id": "wO3o7tD4OC14"
      }
    },
    {
      "cell_type": "code",
      "source": [
        "df2 = pd.DataFrame({\n",
        "    \"Name\": [\"Ali\", \"Sara\", \"John\"],\n",
        "    \"Age\": [25, None, 40],\n",
        "    \"City\": [\"Dhaka\", \"Khulna\", None]\n",
        "})\n",
        "\n",
        "# print(df2.isnull())    # Check missing\n",
        "# print(df2.dropna())    # Drop rows with NaN\n",
        "print(df2.fillna(\"Unknown\"))  # Replace NaN"
      ],
      "metadata": {
        "colab": {
          "base_uri": "https://localhost:8080/"
        },
        "id": "fTf6BXUpOFiZ",
        "outputId": "e4e22ff1-c864-4c3b-93c3-d90375e2def3"
      },
      "execution_count": null,
      "outputs": [
        {
          "output_type": "stream",
          "name": "stdout",
          "text": [
            "   Name      Age     City\n",
            "0   Ali     25.0    Dhaka\n",
            "1  Sara  Unknown   Khulna\n",
            "2  John     40.0  Unknown\n"
          ]
        }
      ]
    },
    {
      "cell_type": "markdown",
      "source": [
        "## **Step 9: Grouping & Aggregation**"
      ],
      "metadata": {
        "id": "w8yJoDdMPeRB"
      }
    },
    {
      "cell_type": "code",
      "source": [
        "print(df.groupby(\"City\")[\"Age\"].mean())  # Avg age per city"
      ],
      "metadata": {
        "colab": {
          "base_uri": "https://localhost:8080/"
        },
        "id": "kkRiWUhfPgw4",
        "outputId": "0e213346-df74-477c-b225-4b028de1cfa6"
      },
      "execution_count": null,
      "outputs": [
        {
          "output_type": "stream",
          "name": "stdout",
          "text": [
            "City\n",
            "Chittagong    30.0\n",
            "Dhaka         25.0\n",
            "Sylhet        35.0\n",
            "Name: Age, dtype: float64\n"
          ]
        }
      ]
    },
    {
      "cell_type": "markdown",
      "source": [
        "## **Step 10: Importing & Exporting Data**"
      ],
      "metadata": {
        "id": "6DlqlQzwRN1Q"
      }
    },
    {
      "cell_type": "code",
      "source": [
        "# Save\n",
        "df.to_csv(\"people.csv\", index=False)\n",
        "\n",
        "# Load\n",
        "df_loaded = pd.read_csv(\"people.csv\")\n",
        "print(df_loaded)"
      ],
      "metadata": {
        "id": "9_CEzrCBRQRA",
        "outputId": "7cbf7eba-a2c7-4e79-cb86-142235ae4b77",
        "colab": {
          "base_uri": "https://localhost:8080/"
        }
      },
      "execution_count": null,
      "outputs": [
        {
          "output_type": "stream",
          "name": "stdout",
          "text": [
            "      Name  Age        City  Age+5  Senior\n",
            "0    Alice   25       Dhaka     30   False\n",
            "1      Bob   30  Chittagong     35   False\n",
            "2  Charlie   35      Sylhet     40    True\n"
          ]
        }
      ]
    }
  ]
}